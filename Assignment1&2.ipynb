{
 "cells": [
  {
   "cell_type": "markdown",
   "id": "9944c525",
   "metadata": {},
   "source": [
    "ASSIGNMENT 1"
   ]
  },
  {
   "cell_type": "code",
   "execution_count": 1,
   "id": "32e01f8f",
   "metadata": {
    "scrolled": true
   },
   "outputs": [
    {
     "name": "stdout",
     "output_type": "stream",
     "text": [
      "what is your first name?: Gift\n",
      "what is your last name?: Tambari\n",
      "Male/Female?: Male\n",
      "what is your highest educational qualification?: HND\n",
      "what is your occupation?: Customer Service Executive\n",
      "what is your skin colour?: Black\n",
      "what is the color of your eye?: Brown\n",
      "what is the color of your hair?: Black\n",
      "What is your relationship Status?: Single\n",
      "what are your hobbies?: cooking and sewing clothes\n"
     ]
    }
   ],
   "source": [
    "first_name = input(\"what is your first name?: \")\n",
    "last_name = input(\"what is your last name?: \")\n",
    "gender = input(\"Male/Female?: \")\n",
    "educational_background = input(\"what is your highest educational qualification?: \")\n",
    "occupation = input(\"what is your occupation?: \")\n",
    "skin_color = input(\"what is your skin colour?: \")\n",
    "eye_color = input(\"what is the color of your eye?: \")\n",
    "hair_color = input(\"what is the color of your hair?: \")\n",
    "marital_status = input(\"What is your relationship Status?: \")\n",
    "hobbies = input(\"what are your hobbies?: \")"
   ]
  },
  {
   "cell_type": "code",
   "execution_count": 2,
   "id": "278ed2da",
   "metadata": {},
   "outputs": [
    {
     "name": "stdout",
     "output_type": "stream",
     "text": [
      "Hello, My name is Gift Tambari, I'm a Male.\n",
      "I have HND in Electrical/Electronics Engineering,\n",
      "I am a Customer Service Executive.\n",
      "I am Black by skin color with Brown eyes and Black hair.\n",
      "I am Single.\n",
      "My hobbies are cooking and sewing clothes.\n",
      "Thank you.\n"
     ]
    }
   ],
   "source": [
    "print(f\"\"\"Hello, My name is {first_name} {last_name}, I'm a {gender}.\n",
    "I have {educational_background} in Electrical/Electronics Engineering,\n",
    "I am a {occupation}.\n",
    "I am {skin_color} by skin color with {eye_color} eyes and {hair_color} hair.\n",
    "I am {marital_status}.\n",
    "My hobbies are {hobbies}.\n",
    "Thank you.\"\"\")"
   ]
  },
  {
   "cell_type": "code",
   "execution_count": null,
   "id": "dd034b7b",
   "metadata": {},
   "outputs": [],
   "source": []
  },
  {
   "cell_type": "markdown",
   "id": "750e753c",
   "metadata": {},
   "source": [
    "ASSIGNMENT 2"
   ]
  },
  {
   "cell_type": "code",
   "execution_count": 7,
   "id": "a25fb2ad",
   "metadata": {},
   "outputs": [
    {
     "name": "stdout",
     "output_type": "stream",
     "text": [
      "The company's name is Apple.\n"
     ]
    }
   ],
   "source": [
    "website = \"https://www.apple.com/homepage/iphones\"\n",
    "\n",
    "company_name = website.split(\".\")[1].title()\n",
    "print(f\"The company's name is {company_name}.\")"
   ]
  },
  {
   "cell_type": "code",
   "execution_count": 18,
   "id": "49472c9e",
   "metadata": {},
   "outputs": [
    {
     "name": "stdout",
     "output_type": "stream",
     "text": [
      "The company's website is www.apple.com\n"
     ]
    }
   ],
   "source": [
    "company_website = website.split(\"//\")[1].split(\"/\")[0]\n",
    "print(f\"The company's website is {company_website}\")"
   ]
  },
  {
   "cell_type": "code",
   "execution_count": 19,
   "id": "7171f625",
   "metadata": {},
   "outputs": [
    {
     "name": "stdout",
     "output_type": "stream",
     "text": [
      "To visit our home page, kindly click this link https://www.apple.com/homepage\n"
     ]
    }
   ],
   "source": [
    "company_landing_home_page = website.split(\"/iphones\")[0]\n",
    "print(f\"To visit our home page, kindly click this link {company_landing_home_page}\")"
   ]
  },
  {
   "cell_type": "code",
   "execution_count": null,
   "id": "5261af77",
   "metadata": {},
   "outputs": [],
   "source": []
  }
 ],
 "metadata": {
  "kernelspec": {
   "display_name": "Python 3 (ipykernel)",
   "language": "python",
   "name": "python3"
  },
  "language_info": {
   "codemirror_mode": {
    "name": "ipython",
    "version": 3
   },
   "file_extension": ".py",
   "mimetype": "text/x-python",
   "name": "python",
   "nbconvert_exporter": "python",
   "pygments_lexer": "ipython3",
   "version": "3.10.9"
  }
 },
 "nbformat": 4,
 "nbformat_minor": 5
}
